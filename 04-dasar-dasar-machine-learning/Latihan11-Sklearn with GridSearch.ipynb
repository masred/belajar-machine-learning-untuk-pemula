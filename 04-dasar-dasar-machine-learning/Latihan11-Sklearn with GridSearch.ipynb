{
  "cells": [
    {
      "cell_type": "code",
      "execution_count": null,
      "metadata": {
        "id": "s_OyVHY4GVqX"
      },
      "outputs": [],
      "source": [
        "import pandas as pd\n",
        "\n",
        "# membaca dataset dan mengubahnya menjadi dataframe\n",
        "data = pd.read_csv('sample_data/Salary_Data.csv')"
      ]
    },
    {
      "cell_type": "code",
      "execution_count": null,
      "metadata": {
        "colab": {
          "base_uri": "https://localhost:8080/",
          "height": 72
        },
        "id": "kUaoKZnzGgzj",
        "outputId": "3005e668-fe86-491c-dd73-f42d00c8a625"
      },
      "outputs": [],
      "source": [
        "import numpy as np\n",
        "\n",
        "# memisahkan atribut dan label\n",
        "X = data['YearsExperience']\n",
        "y = data['Salary']\n",
        "\n",
        "# Convert the Series to NumPy arrays\n",
        "X = X.values\n",
        "y = y.values\n",
        "\n",
        "# mengubah bentuk atribut\n",
        "X = X[:,np.newaxis]"
      ]
    },
    {
      "cell_type": "code",
      "execution_count": null,
      "metadata": {
        "colab": {
          "base_uri": "https://localhost:8080/",
          "height": 70
        },
        "id": "FfE1ItdkGh4K",
        "outputId": "2f0a4097-1fdb-491f-d8e5-413809ab07b5"
      },
      "outputs": [],
      "source": [
        "from sklearn.model_selection import GridSearchCV\n",
        "from sklearn.svm import SVR\n",
        "\n",
        "# membangun model dengan parameter C, gamma, dan kernel\n",
        "model = SVR()\n",
        "parameters = {\n",
        "    'kernel': ['rbf'],\n",
        "    'C':     [1000, 10000, 100000],\n",
        "    'gamma': [0.5, 0.05,0.005]\n",
        "}\n",
        "grid_search = GridSearchCV(model, parameters)\n",
        "\n",
        "# melatih model dengan fungsi fit\n",
        "grid_search.fit(X,y)\n",
        "\n",
        "print(\"SVR GridSearch score: \"+str(grid_search.best_score_))\n",
        "print(\"SVR GridSearch params: \")\n",
        "print(grid_search.best_params_)"
      ]
    },
    {
      "cell_type": "code",
      "execution_count": null,
      "metadata": {
        "colab": {
          "base_uri": "https://localhost:8080/",
          "height": 52
        },
        "id": "gqC9ADEUGkI8",
        "outputId": "565151e5-6d60-4869-acb1-b143bf13ea6a"
      },
      "outputs": [],
      "source": [
        "# membuat model SVM baru dengan parameter terbaik hasil grid search\n",
        "model_baru  = SVR(C=100000, gamma=0.005, kernel='rbf')\n",
        "model_baru.fit(X,y)"
      ]
    },
    {
      "cell_type": "code",
      "execution_count": null,
      "metadata": {
        "colab": {
          "base_uri": "https://localhost:8080/",
          "height": 282
        },
        "id": "fMEFMS1dGkz5",
        "outputId": "71b7b714-34da-4286-e577-31b4e8a3d68c"
      },
      "outputs": [],
      "source": [
        "import matplotlib.pyplot as plt\n",
        "plt.scatter(X, y)\n",
        "plt.plot(X, model_baru.predict(X))"
      ]
    }
  ],
  "metadata": {
    "colab": {
      "collapsed_sections": [],
      "name": "Latihan11-Sklearn with GridSearch",
      "provenance": []
    },
    "kernelspec": {
      "display_name": "Python 3",
      "name": "python3"
    },
    "language_info": {
      "codemirror_mode": {
        "name": "ipython",
        "version": 3
      },
      "file_extension": ".py",
      "mimetype": "text/x-python",
      "name": "python",
      "nbconvert_exporter": "python",
      "pygments_lexer": "ipython3",
      "version": "3.8.10"
    }
  },
  "nbformat": 4,
  "nbformat_minor": 0
}
