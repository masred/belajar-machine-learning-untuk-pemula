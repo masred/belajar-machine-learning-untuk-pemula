{
  "cells": [
    {
      "cell_type": "code",
      "execution_count": 5,
      "metadata": {
        "id": "TAHXBKGZakx7"
      },
      "outputs": [],
      "source": [
        "import sklearn\n",
        "from sklearn import datasets"
      ]
    },
    {
      "cell_type": "code",
      "execution_count": 6,
      "metadata": {
        "id": "OCVri9w1a3FC"
      },
      "outputs": [],
      "source": [
        "# load iris dataset\n",
        "iris = datasets.load_iris()"
      ]
    },
    {
      "cell_type": "code",
      "execution_count": 7,
      "metadata": {
        "id": "YQQNNyaDa3qr"
      },
      "outputs": [],
      "source": [
        "# pisahkan atribut dan label pada iris dataset\n",
        "x=iris.data\n",
        "y=iris.target"
      ]
    },
    {
      "cell_type": "code",
      "execution_count": 8,
      "metadata": {
        "id": "R5KCRydTa9Uo"
      },
      "outputs": [],
      "source": [
        "from sklearn.model_selection import train_test_split\n",
        " \n",
        "# membagi dataset menjadi training dan testing \n",
        "train_set_attribute, train_test_attribute, train_set_target, train_test_target = train_test_split(x, y, test_size=0.2, random_state=1)"
      ]
    },
    {
      "cell_type": "code",
      "execution_count": 9,
      "metadata": {
        "colab": {
          "base_uri": "https://localhost:8080/"
        },
        "id": "UIa0AB4w325-",
        "outputId": "8c9659cd-c665-45e7-bf7e-1d7b799173b7"
      },
      "outputs": [
        {
          "name": "stdout",
          "output_type": "stream",
          "text": [
            "150\n",
            "120\n",
            "30\n",
            "120\n",
            "30\n"
          ]
        }
      ],
      "source": [
        "# menghitung panjang/jumlah data pada masing-masing direktori split\n",
        "print(len(x))\n",
        "print(len(train_set_attribute))\n",
        "print(len(train_test_attribute))\n",
        "print(len(train_set_target))\n",
        "print(len(train_test_target))"
      ]
    }
  ],
  "metadata": {
    "colab": {
      "collapsed_sections": [],
      "name": "Latihan2-Sklearn Train Test Split",
      "provenance": []
    },
    "kernelspec": {
      "display_name": "Python 3",
      "name": "python3"
    },
    "language_info": {
      "codemirror_mode": {
        "name": "ipython",
        "version": 3
      },
      "file_extension": ".py",
      "mimetype": "text/x-python",
      "name": "python",
      "nbconvert_exporter": "python",
      "pygments_lexer": "ipython3",
      "version": "3.8.10"
    }
  },
  "nbformat": 4,
  "nbformat_minor": 0
}
